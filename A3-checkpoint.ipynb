{
 "cells": [
  {
   "cell_type": "code",
   "execution_count": 9,
   "id": "04bdfe54",
   "metadata": {},
   "outputs": [
    {
     "name": "stdout",
     "output_type": "stream",
     "text": [
      "    species     island  bill_length_mm  bill_depth_mm  flipper_length_mm  \\\n",
      "0    Adelie  Torgersen            39.1           18.7              181.0   \n",
      "1    Adelie  Torgersen            39.5           17.4              186.0   \n",
      "2    Adelie  Torgersen            40.3           18.0              195.0   \n",
      "3    Adelie  Torgersen             NaN            NaN                NaN   \n",
      "4    Adelie  Torgersen            36.7           19.3              193.0   \n",
      "..      ...        ...             ...            ...                ...   \n",
      "339  Gentoo     Biscoe             NaN            NaN                NaN   \n",
      "340  Gentoo     Biscoe            46.8           14.3              215.0   \n",
      "341  Gentoo     Biscoe            50.4           15.7              222.0   \n",
      "342  Gentoo     Biscoe            45.2           14.8              212.0   \n",
      "343  Gentoo     Biscoe            49.9           16.1              213.0   \n",
      "\n",
      "     body_mass_g     sex  \n",
      "0         3750.0    MALE  \n",
      "1         3800.0  FEMALE  \n",
      "2         3250.0  FEMALE  \n",
      "3            NaN     NaN  \n",
      "4         3450.0  FEMALE  \n",
      "..           ...     ...  \n",
      "339          NaN     NaN  \n",
      "340       4850.0  FEMALE  \n",
      "341       5750.0    MALE  \n",
      "342       5200.0  FEMALE  \n",
      "343       5400.0    MALE  \n",
      "\n",
      "[344 rows x 7 columns]\n"
     ]
    }
   ],
   "source": [
    "import pandas as pd\n",
    "\n",
    "penguins = pd.read_csv('https://raw.githubusercontent.com/mwaskom/seaborn-data/master/penguins.csv')\n",
    "\n",
    "print(penguins)"
   ]
  },
  {
   "cell_type": "code",
   "execution_count": 10,
   "id": "4efa081f",
   "metadata": {},
   "outputs": [],
   "source": [
    "gentoo = penguins.loc[penguins['species'] == 'Gentoo']\n",
    "gentoo_females = gentoo.loc[gentoo['sex'] == 'FEMALE']\n",
    "gentoo_males = gentoo.loc[gentoo['sex'] == 'MALE']\n"
   ]
  },
  {
   "cell_type": "code",
   "execution_count": 11,
   "id": "dfdadd72",
   "metadata": {},
   "outputs": [
    {
     "name": "stderr",
     "output_type": "stream",
     "text": [
      "C:\\Users\\lugia\\AppData\\Local\\Temp\\ipykernel_10064\\3603806829.py:6: FutureWarning: Dropping of nuisance columns in DataFrame reductions (with 'numeric_only=None') is deprecated; in a future version this will raise TypeError.  Select only valid columns before calling the reduction.\n",
      "  female_var = gentoo_females.var()['flipper_length_mm']\n",
      "C:\\Users\\lugia\\AppData\\Local\\Temp\\ipykernel_10064\\3603806829.py:7: FutureWarning: Dropping of nuisance columns in DataFrame reductions (with 'numeric_only=None') is deprecated; in a future version this will raise TypeError.  Select only valid columns before calling the reduction.\n",
      "  male_var = gentoo_males.var()['flipper_length_mm']\n"
     ]
    }
   ],
   "source": [
    "import numpy as np\n",
    "\n",
    "female_mean = np.mean(gentoo_females['flipper_length_mm'])\n",
    "male_mean = np.mean(gentoo_males['flipper_length_mm'])\n",
    "\n",
    "female_var = gentoo_females.var()['flipper_length_mm']\n",
    "male_var = gentoo_males.var()['flipper_length_mm']"
   ]
  },
  {
   "cell_type": "code",
   "execution_count": 12,
   "id": "1f74f9f3",
   "metadata": {},
   "outputs": [
    {
     "name": "stdout",
     "output_type": "stream",
     "text": [
      "female: 15.193284936479138 /n male: 32.18579234972677\n"
     ]
    }
   ],
   "source": [
    "print(f\"female: {female_var} /n male: {male_var}\")"
   ]
  },
  {
   "cell_type": "code",
   "execution_count": 22,
   "id": "f4fcaf3b",
   "metadata": {},
   "outputs": [
    {
     "name": "stdout",
     "output_type": "stream",
     "text": [
      "With Flipper Length: 240\n",
      "female probability: 0.005230203299085053\n",
      "male probability: 0.010515309265404959\n",
      "MALE\n"
     ]
    }
   ],
   "source": [
    "from scipy import stats\n",
    "\n",
    "female_norm_func = stats.norm(female_mean, female_var)\n",
    "male_norm_func = stats.norm(male_mean, male_var)\n",
    "\n",
    "\n",
    "\n",
    "def gentoo_penguin_predictor(flipper_length):\n",
    "    print(f\"With Flipper Length: {flipper_length}\")\n",
    "    female_prob = female_norm_func.pdf(flipper_length)\n",
    "    male_prob = male_norm_func.pdf(flipper_length)\n",
    "    \n",
    "    print(f\"female probability: {female_prob}\")\n",
    "    print(f\"male probability: {male_prob}\")\n",
    "    return \"MALE\" if male_prob > female_prob else \"FEMALE\" \n",
    "    \n",
    "print(gentoo_penguin_predictor(240))"
   ]
  },
  {
   "cell_type": "code",
   "execution_count": null,
   "id": "05db5908",
   "metadata": {},
   "outputs": [],
   "source": []
  },
  {
   "cell_type": "code",
   "execution_count": null,
   "id": "e12fffbd",
   "metadata": {},
   "outputs": [],
   "source": []
  }
 ],
 "metadata": {
  "kernelspec": {
   "display_name": "Python 3 (ipykernel)",
   "language": "python",
   "name": "python3"
  },
  "language_info": {
   "codemirror_mode": {
    "name": "ipython",
    "version": 3
   },
   "file_extension": ".py",
   "mimetype": "text/x-python",
   "name": "python",
   "nbconvert_exporter": "python",
   "pygments_lexer": "ipython3",
   "version": "3.9.12"
  }
 },
 "nbformat": 4,
 "nbformat_minor": 5
}
