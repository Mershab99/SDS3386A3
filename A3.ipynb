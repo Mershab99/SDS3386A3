{
 "cells": [
  {
   "cell_type": "code",
   "execution_count": 9,
   "id": "04bdfe54",
   "metadata": {},
   "outputs": [
    {
     "name": "stdout",
     "output_type": "stream",
     "text": [
      "    species     island  bill_length_mm  bill_depth_mm  flipper_length_mm  \\\n",
      "0    Adelie  Torgersen            39.1           18.7              181.0   \n",
      "1    Adelie  Torgersen            39.5           17.4              186.0   \n",
      "2    Adelie  Torgersen            40.3           18.0              195.0   \n",
      "3    Adelie  Torgersen             NaN            NaN                NaN   \n",
      "4    Adelie  Torgersen            36.7           19.3              193.0   \n",
      "..      ...        ...             ...            ...                ...   \n",
      "339  Gentoo     Biscoe             NaN            NaN                NaN   \n",
      "340  Gentoo     Biscoe            46.8           14.3              215.0   \n",
      "341  Gentoo     Biscoe            50.4           15.7              222.0   \n",
      "342  Gentoo     Biscoe            45.2           14.8              212.0   \n",
      "343  Gentoo     Biscoe            49.9           16.1              213.0   \n",
      "\n",
      "     body_mass_g     sex  \n",
      "0         3750.0    MALE  \n",
      "1         3800.0  FEMALE  \n",
      "2         3250.0  FEMALE  \n",
      "3            NaN     NaN  \n",
      "4         3450.0  FEMALE  \n",
      "..           ...     ...  \n",
      "339          NaN     NaN  \n",
      "340       4850.0  FEMALE  \n",
      "341       5750.0    MALE  \n",
      "342       5200.0  FEMALE  \n",
      "343       5400.0    MALE  \n",
      "\n",
      "[344 rows x 7 columns]\n"
     ]
    }
   ],
   "source": [
    "import pandas as pd\n",
    "\n",
    "penguins = pd.read_csv('https://raw.githubusercontent.com/mwaskom/seaborn-data/master/penguins.csv')\n",
    "\n",
    "print(penguins)"
   ]
  },
  {
   "cell_type": "code",
   "execution_count": 10,
   "id": "4efa081f",
   "metadata": {},
   "outputs": [],
   "source": [
    "gentoo = penguins.loc[penguins['species'] == 'Gentoo']\n",
    "gentoo_females = gentoo.loc[gentoo['sex'] == 'FEMALE']\n",
    "gentoo_males = gentoo.loc[gentoo['sex'] == 'MALE']\n"
   ]
  },
  {
   "cell_type": "code",
   "execution_count": 11,
   "id": "dfdadd72",
   "metadata": {},
   "outputs": [
    {
     "name": "stderr",
     "output_type": "stream",
     "text": [
      "C:\\Users\\lugia\\AppData\\Local\\Temp\\ipykernel_10064\\3603806829.py:6: FutureWarning: Dropping of nuisance columns in DataFrame reductions (with 'numeric_only=None') is deprecated; in a future version this will raise TypeError.  Select only valid columns before calling the reduction.\n",
      "  female_var = gentoo_females.var()['flipper_length_mm']\n",
      "C:\\Users\\lugia\\AppData\\Local\\Temp\\ipykernel_10064\\3603806829.py:7: FutureWarning: Dropping of nuisance columns in DataFrame reductions (with 'numeric_only=None') is deprecated; in a future version this will raise TypeError.  Select only valid columns before calling the reduction.\n",
      "  male_var = gentoo_males.var()['flipper_length_mm']\n"
     ]
    }
   ],
   "source": [
    "import numpy as np\n",
    "\n",
    "female_mean = np.mean(gentoo_females['flipper_length_mm'])\n",
    "male_mean = np.mean(gentoo_males['flipper_length_mm'])\n",
    "\n",
    "female_var = gentoo_females.var()['flipper_length_mm']\n",
    "male_var = gentoo_males.var()['flipper_length_mm']"
   ]
  },
  {
   "cell_type": "code",
   "execution_count": 24,
   "id": "1f74f9f3",
   "metadata": {},
   "outputs": [
    {
     "name": "stdout",
     "output_type": "stream",
     "text": [
      "MEAN: female: 212.70689655172413 /n male: 221.54098360655738\n",
      "VARIANCE: female: 15.193284936479138 /n male: 32.18579234972677\n"
     ]
    }
   ],
   "source": [
    "print(f\"MEAN: female: {female_mean} /n male: {male_mean}\")\n",
    "print(f\"VARIANCE: female: {female_var} /n male: {male_var}\")"
   ]
  },
  {
   "cell_type": "code",
   "execution_count": 32,
   "id": "f4fcaf3b",
   "metadata": {},
   "outputs": [
    {
     "name": "stdout",
     "output_type": "stream",
     "text": [
      "With Flipper Length: 240\n",
      "female probability: 0.005230203299085053\n",
      "male probability: 0.010515309265404959\n",
      "(0.2486946968023213, 1.0052486169365977)\n"
     ]
    }
   ],
   "source": [
    "from scipy import stats\n",
    "\n",
    "\n",
    "\n",
    "GENTOO_MALE_PROB = .5\n",
    "GENTOO_FEMALE_PROB = .5\n",
    "\n",
    "\n",
    "def bayes_classify(flipper_length, male_mean, female_mean, male_var, female_var):\n",
    "    female_norm_func = stats.norm(female_mean, female_var)\n",
    "    male_norm_func = stats.norm(male_mean, male_var)\n",
    "    print(f\"With Flipper Length: {flipper_length}\")\n",
    "    \n",
    "    \n",
    "    female_prob = female_norm_func.pdf(flipper_length)\n",
    "    male_prob = male_norm_func.pdf(flipper_length)\n",
    "    \n",
    "    print(f\"female probability: {female_prob}\")\n",
    "    print(f\"male probability: {male_prob}\")\n",
    "    \n",
    "    prob_male_at_flipper_length = male_prob*GENTOO_MALE_PROB/female_prob\n",
    "    prob_female_at_flipper_length = female_prob*GENTOO_FEMALE_PROB/male_prob\n",
    "\n",
    "    return (prob_female_at_flipper_length, prob_male_at_flipper_length)\n",
    "\n",
    "print(bayes_classify(240, male_mean, female_mean, male_var, female_var))\n",
    "    "
   ]
  },
  {
   "cell_type": "code",
   "execution_count": 29,
   "id": "25b7d022",
   "metadata": {},
   "outputs": [
    {
     "ename": "TypeError",
     "evalue": "unhashable type: 'Series'",
     "output_type": "error",
     "traceback": [
      "\u001b[1;31m---------------------------------------------------------------------------\u001b[0m",
      "\u001b[1;31mTypeError\u001b[0m                                 Traceback (most recent call last)",
      "Input \u001b[1;32mIn [29]\u001b[0m, in \u001b[0;36m<cell line: 4>\u001b[1;34m()\u001b[0m\n\u001b[0;32m      1\u001b[0m \u001b[38;5;66;03m#C)\u001b[39;00m\n\u001b[0;32m      2\u001b[0m \u001b[38;5;66;03m#import altair as alt\u001b[39;00m\n\u001b[1;32m----> 4\u001b[0m gentoo_predict \u001b[38;5;241m=\u001b[39m \u001b[43mgentoo\u001b[49m\u001b[38;5;241;43m.\u001b[39;49m\u001b[43mapply\u001b[49m\u001b[43m(\u001b[49m\u001b[43mbayes_classify\u001b[49m\u001b[43m,\u001b[49m\u001b[43m \u001b[49m\u001b[43mgentoo\u001b[49m\u001b[43m[\u001b[49m\u001b[38;5;124;43m'\u001b[39;49m\u001b[38;5;124;43mflipper_length_mm\u001b[39;49m\u001b[38;5;124;43m'\u001b[39;49m\u001b[43m]\u001b[49m\u001b[43m)\u001b[49m\n\u001b[0;32m      6\u001b[0m \u001b[38;5;28mprint\u001b[39m(gentoo_predict)\n",
      "File \u001b[1;32m~\\anaconda3\\lib\\site-packages\\pandas\\core\\frame.py:8830\u001b[0m, in \u001b[0;36mDataFrame.apply\u001b[1;34m(self, func, axis, raw, result_type, args, **kwargs)\u001b[0m\n\u001b[0;32m   8691\u001b[0m \u001b[38;5;124;03m\"\"\"\u001b[39;00m\n\u001b[0;32m   8692\u001b[0m \u001b[38;5;124;03mApply a function along an axis of the DataFrame.\u001b[39;00m\n\u001b[0;32m   8693\u001b[0m \n\u001b[1;32m   (...)\u001b[0m\n\u001b[0;32m   8826\u001b[0m \u001b[38;5;124;03m2  1  2\u001b[39;00m\n\u001b[0;32m   8827\u001b[0m \u001b[38;5;124;03m\"\"\"\u001b[39;00m\n\u001b[0;32m   8828\u001b[0m \u001b[38;5;28;01mfrom\u001b[39;00m \u001b[38;5;21;01mpandas\u001b[39;00m\u001b[38;5;21;01m.\u001b[39;00m\u001b[38;5;21;01mcore\u001b[39;00m\u001b[38;5;21;01m.\u001b[39;00m\u001b[38;5;21;01mapply\u001b[39;00m \u001b[38;5;28;01mimport\u001b[39;00m frame_apply\n\u001b[1;32m-> 8830\u001b[0m op \u001b[38;5;241m=\u001b[39m \u001b[43mframe_apply\u001b[49m\u001b[43m(\u001b[49m\n\u001b[0;32m   8831\u001b[0m \u001b[43m    \u001b[49m\u001b[38;5;28;43mself\u001b[39;49m\u001b[43m,\u001b[49m\n\u001b[0;32m   8832\u001b[0m \u001b[43m    \u001b[49m\u001b[43mfunc\u001b[49m\u001b[38;5;241;43m=\u001b[39;49m\u001b[43mfunc\u001b[49m\u001b[43m,\u001b[49m\n\u001b[0;32m   8833\u001b[0m \u001b[43m    \u001b[49m\u001b[43maxis\u001b[49m\u001b[38;5;241;43m=\u001b[39;49m\u001b[43maxis\u001b[49m\u001b[43m,\u001b[49m\n\u001b[0;32m   8834\u001b[0m \u001b[43m    \u001b[49m\u001b[43mraw\u001b[49m\u001b[38;5;241;43m=\u001b[39;49m\u001b[43mraw\u001b[49m\u001b[43m,\u001b[49m\n\u001b[0;32m   8835\u001b[0m \u001b[43m    \u001b[49m\u001b[43mresult_type\u001b[49m\u001b[38;5;241;43m=\u001b[39;49m\u001b[43mresult_type\u001b[49m\u001b[43m,\u001b[49m\n\u001b[0;32m   8836\u001b[0m \u001b[43m    \u001b[49m\u001b[43margs\u001b[49m\u001b[38;5;241;43m=\u001b[39;49m\u001b[43margs\u001b[49m\u001b[43m,\u001b[49m\n\u001b[0;32m   8837\u001b[0m \u001b[43m    \u001b[49m\u001b[43mkwargs\u001b[49m\u001b[38;5;241;43m=\u001b[39;49m\u001b[43mkwargs\u001b[49m\u001b[43m,\u001b[49m\n\u001b[0;32m   8838\u001b[0m \u001b[43m\u001b[49m\u001b[43m)\u001b[49m\n\u001b[0;32m   8839\u001b[0m \u001b[38;5;28;01mreturn\u001b[39;00m op\u001b[38;5;241m.\u001b[39mapply()\u001b[38;5;241m.\u001b[39m__finalize__(\u001b[38;5;28mself\u001b[39m, method\u001b[38;5;241m=\u001b[39m\u001b[38;5;124m\"\u001b[39m\u001b[38;5;124mapply\u001b[39m\u001b[38;5;124m\"\u001b[39m)\n",
      "File \u001b[1;32m~\\anaconda3\\lib\\site-packages\\pandas\\core\\apply.py:88\u001b[0m, in \u001b[0;36mframe_apply\u001b[1;34m(obj, func, axis, raw, result_type, args, kwargs)\u001b[0m\n\u001b[0;32m     78\u001b[0m \u001b[38;5;28;01mdef\u001b[39;00m \u001b[38;5;21mframe_apply\u001b[39m(\n\u001b[0;32m     79\u001b[0m     obj: DataFrame,\n\u001b[0;32m     80\u001b[0m     func: AggFuncType,\n\u001b[1;32m   (...)\u001b[0m\n\u001b[0;32m     85\u001b[0m     kwargs\u001b[38;5;241m=\u001b[39m\u001b[38;5;28;01mNone\u001b[39;00m,\n\u001b[0;32m     86\u001b[0m ) \u001b[38;5;241m-\u001b[39m\u001b[38;5;241m>\u001b[39m FrameApply:\n\u001b[0;32m     87\u001b[0m     \u001b[38;5;124;03m\"\"\"construct and return a row or column based frame apply object\"\"\"\u001b[39;00m\n\u001b[1;32m---> 88\u001b[0m     axis \u001b[38;5;241m=\u001b[39m \u001b[43mobj\u001b[49m\u001b[38;5;241;43m.\u001b[39;49m\u001b[43m_get_axis_number\u001b[49m\u001b[43m(\u001b[49m\u001b[43maxis\u001b[49m\u001b[43m)\u001b[49m\n\u001b[0;32m     89\u001b[0m     klass: \u001b[38;5;28mtype\u001b[39m[FrameApply]\n\u001b[0;32m     90\u001b[0m     \u001b[38;5;28;01mif\u001b[39;00m axis \u001b[38;5;241m==\u001b[39m \u001b[38;5;241m0\u001b[39m:\n",
      "File \u001b[1;32m~\\anaconda3\\lib\\site-packages\\pandas\\core\\generic.py:550\u001b[0m, in \u001b[0;36mNDFrame._get_axis_number\u001b[1;34m(cls, axis)\u001b[0m\n\u001b[0;32m    546\u001b[0m \u001b[38;5;129m@final\u001b[39m\n\u001b[0;32m    547\u001b[0m \u001b[38;5;129m@classmethod\u001b[39m\n\u001b[0;32m    548\u001b[0m \u001b[38;5;28;01mdef\u001b[39;00m \u001b[38;5;21m_get_axis_number\u001b[39m(\u001b[38;5;28mcls\u001b[39m, axis: Axis) \u001b[38;5;241m-\u001b[39m\u001b[38;5;241m>\u001b[39m \u001b[38;5;28mint\u001b[39m:\n\u001b[0;32m    549\u001b[0m     \u001b[38;5;28;01mtry\u001b[39;00m:\n\u001b[1;32m--> 550\u001b[0m         \u001b[38;5;28;01mreturn\u001b[39;00m \u001b[38;5;28;43mcls\u001b[39;49m\u001b[38;5;241;43m.\u001b[39;49m\u001b[43m_AXIS_TO_AXIS_NUMBER\u001b[49m\u001b[43m[\u001b[49m\u001b[43maxis\u001b[49m\u001b[43m]\u001b[49m\n\u001b[0;32m    551\u001b[0m     \u001b[38;5;28;01mexcept\u001b[39;00m \u001b[38;5;167;01mKeyError\u001b[39;00m:\n\u001b[0;32m    552\u001b[0m         \u001b[38;5;28;01mraise\u001b[39;00m \u001b[38;5;167;01mValueError\u001b[39;00m(\u001b[38;5;124mf\u001b[39m\u001b[38;5;124m\"\u001b[39m\u001b[38;5;124mNo axis named \u001b[39m\u001b[38;5;132;01m{\u001b[39;00maxis\u001b[38;5;132;01m}\u001b[39;00m\u001b[38;5;124m for object type \u001b[39m\u001b[38;5;132;01m{\u001b[39;00m\u001b[38;5;28mcls\u001b[39m\u001b[38;5;241m.\u001b[39m\u001b[38;5;18m__name__\u001b[39m\u001b[38;5;132;01m}\u001b[39;00m\u001b[38;5;124m\"\u001b[39m)\n",
      "\u001b[1;31mTypeError\u001b[0m: unhashable type: 'Series'"
     ]
    }
   ],
   "source": [
    "#D)\n",
    "#import altair as alt\n",
    "\n",
    "gentoo_predict = gentoo.apply(bayes_classify, gentoo['flipper_length_mm'])\n",
    "\n",
    "print(gentoo_predict)\n",
    "\n",
    "#chart = alt.Chart(gentoo).mark_bar().encode(\n",
    "#    x=Alt.X('sex:N'),\n",
    "#    y=Alt.Y('')\n",
    "#)"
   ]
  },
  {
   "cell_type": "code",
   "execution_count": null,
   "id": "8b8fff53",
   "metadata": {},
   "outputs": [],
   "source": []
  }
 ],
 "metadata": {
  "kernelspec": {
   "display_name": "Python 3 (ipykernel)",
   "language": "python",
   "name": "python3"
  },
  "language_info": {
   "codemirror_mode": {
    "name": "ipython",
    "version": 3
   },
   "file_extension": ".py",
   "mimetype": "text/x-python",
   "name": "python",
   "nbconvert_exporter": "python",
   "pygments_lexer": "ipython3",
   "version": "3.9.12"
  }
 },
 "nbformat": 4,
 "nbformat_minor": 5
}
