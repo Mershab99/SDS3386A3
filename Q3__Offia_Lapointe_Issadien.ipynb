{
 "cells": [
  {
   "cell_type": "markdown",
   "id": "81d1c5b3",
   "metadata": {},
   "source": [
    "# A)"
   ]
  },
  {
   "cell_type": "code",
   "execution_count": 1,
   "id": "04bdfe54",
   "metadata": {},
   "outputs": [
    {
     "name": "stdout",
     "output_type": "stream",
     "text": [
      "    species     island  bill_length_mm  bill_depth_mm  flipper_length_mm  \\\n",
      "0    Adelie  Torgersen            39.1           18.7              181.0   \n",
      "1    Adelie  Torgersen            39.5           17.4              186.0   \n",
      "2    Adelie  Torgersen            40.3           18.0              195.0   \n",
      "3    Adelie  Torgersen             NaN            NaN                NaN   \n",
      "4    Adelie  Torgersen            36.7           19.3              193.0   \n",
      "..      ...        ...             ...            ...                ...   \n",
      "339  Gentoo     Biscoe             NaN            NaN                NaN   \n",
      "340  Gentoo     Biscoe            46.8           14.3              215.0   \n",
      "341  Gentoo     Biscoe            50.4           15.7              222.0   \n",
      "342  Gentoo     Biscoe            45.2           14.8              212.0   \n",
      "343  Gentoo     Biscoe            49.9           16.1              213.0   \n",
      "\n",
      "     body_mass_g     sex  \n",
      "0         3750.0    MALE  \n",
      "1         3800.0  FEMALE  \n",
      "2         3250.0  FEMALE  \n",
      "3            NaN     NaN  \n",
      "4         3450.0  FEMALE  \n",
      "..           ...     ...  \n",
      "339          NaN     NaN  \n",
      "340       4850.0  FEMALE  \n",
      "341       5750.0    MALE  \n",
      "342       5200.0  FEMALE  \n",
      "343       5400.0    MALE  \n",
      "\n",
      "[344 rows x 7 columns]\n"
     ]
    }
   ],
   "source": [
    "# A)\n",
    "import pandas as pd\n",
    "\n",
    "penguins = pd.read_csv('https://raw.githubusercontent.com/mwaskom/seaborn-data/master/penguins.csv')\n",
    "\n",
    "print(penguins)"
   ]
  },
  {
   "cell_type": "code",
   "execution_count": 2,
   "id": "4efa081f",
   "metadata": {},
   "outputs": [],
   "source": [
    "gentoo = penguins.loc[penguins['species'] == 'Gentoo'].dropna()\n",
    "gentoo_females = gentoo.loc[gentoo['sex'] == 'FEMALE']\n",
    "gentoo_males = gentoo.loc[gentoo['sex'] == 'MALE']\n"
   ]
  },
  {
   "cell_type": "code",
   "execution_count": 3,
   "id": "dfdadd72",
   "metadata": {},
   "outputs": [
    {
     "name": "stderr",
     "output_type": "stream",
     "text": [
      "/tmp/ipykernel_85020/3603806829.py:6: FutureWarning: Dropping of nuisance columns in DataFrame reductions (with 'numeric_only=None') is deprecated; in a future version this will raise TypeError.  Select only valid columns before calling the reduction.\n",
      "  female_var = gentoo_females.var()['flipper_length_mm']\n",
      "/tmp/ipykernel_85020/3603806829.py:7: FutureWarning: Dropping of nuisance columns in DataFrame reductions (with 'numeric_only=None') is deprecated; in a future version this will raise TypeError.  Select only valid columns before calling the reduction.\n",
      "  male_var = gentoo_males.var()['flipper_length_mm']\n"
     ]
    }
   ],
   "source": [
    "import numpy as np\n",
    "\n",
    "female_mean = np.mean(gentoo_females['flipper_length_mm'])\n",
    "male_mean = np.mean(gentoo_males['flipper_length_mm'])\n",
    "\n",
    "female_var = gentoo_females.var()['flipper_length_mm']\n",
    "male_var = gentoo_males.var()['flipper_length_mm']"
   ]
  },
  {
   "cell_type": "code",
   "execution_count": 4,
   "id": "1f74f9f3",
   "metadata": {},
   "outputs": [
    {
     "name": "stdout",
     "output_type": "stream",
     "text": [
      "MEAN:\n",
      "female: 212.70689655172413  male: 221.54098360655738\n",
      "VARIANCE:\n",
      "female: 15.19328493647913 male: 32.185792349726775\n"
     ]
    }
   ],
   "source": [
    "print(\"MEAN:\")\n",
    "print(f\"female: {female_mean}  male: {male_mean}\")\n",
    "print(\"VARIANCE:\")\n",
    "print(f\"female: {female_var} male: {male_var}\")"
   ]
  },
  {
   "cell_type": "markdown",
   "id": "97b9ba70",
   "metadata": {},
   "source": [
    "# B) + C)"
   ]
  },
  {
   "cell_type": "code",
   "execution_count": 5,
   "id": "f4fcaf3b",
   "metadata": {},
   "outputs": [
    {
     "name": "stdout",
     "output_type": "stream",
     "text": [
      "Bela's probability of being a female is : 0.3321710409656932\n",
      "Bela's probability of being a male is : 0.6678289590343068\n"
     ]
    }
   ],
   "source": [
    "from scipy import stats\n",
    "\n",
    "\n",
    "GENTOO_MALE_PROB = .5\n",
    "GENTOO_FEMALE_PROB = .5\n",
    "\n",
    "\n",
    "def bayes_classify(flipper_length, male_mean, female_mean, male_var, female_var):\n",
    "    female = stats.norm.pdf(flipper_length, female_mean, female_var)\n",
    "    male = stats.norm.pdf(flipper_length, male_mean, male_var)\n",
    "    #print(f\"With Flipper Length: {flipper_length}\")\n",
    "\n",
    "    f= (.5*female) / ((.5*female)+(.5*male))\n",
    "    m= (.5*male) / ((.5*male)+(.5*female))\n",
    "\n",
    "    #print(f'probability to be a female {f}, probability to be a male {m}')\n",
    "    return (f, m)\n",
    "\n",
    "def sex_prediction(*probabilities):\n",
    "    (female_prob, male_prob) = probabilities\n",
    "    return \"FEMALE\" if female_prob > male_prob else \"MALE\"\n",
    "\n",
    "Bela = (bayes_classify(240, male_mean, female_mean, male_var, female_var))\n",
    "\n",
    "print(f\"Bela's probability of being a female is : {Bela[0]}\".format(*Bela))\n",
    "print(f\"Bela's probability of being a male is : {Bela[1]}\".format(*Bela))"
   ]
  },
  {
   "cell_type": "code",
   "execution_count": 6,
   "id": "25b7d022",
   "metadata": {},
   "outputs": [
    {
     "name": "stdout",
     "output_type": "stream",
     "text": [
      "    species  island  bill_length_mm  bill_depth_mm  flipper_length_mm  \\\n",
      "220  Gentoo  Biscoe            46.1           13.2              211.0   \n",
      "221  Gentoo  Biscoe            50.0           16.3              230.0   \n",
      "222  Gentoo  Biscoe            48.7           14.1              210.0   \n",
      "223  Gentoo  Biscoe            50.0           15.2              218.0   \n",
      "224  Gentoo  Biscoe            47.6           14.5              215.0   \n",
      "..      ...     ...             ...            ...                ...   \n",
      "338  Gentoo  Biscoe            47.2           13.7              214.0   \n",
      "340  Gentoo  Biscoe            46.8           14.3              215.0   \n",
      "341  Gentoo  Biscoe            50.4           15.7              222.0   \n",
      "342  Gentoo  Biscoe            45.2           14.8              212.0   \n",
      "343  Gentoo  Biscoe            49.9           16.1              213.0   \n",
      "\n",
      "     body_mass_g     sex                       predicted_sex_vector  \\\n",
      "220       4500.0  FEMALE   (0.6895444309386145, 0.3104555690613855)   \n",
      "221       5700.0    MALE  (0.5343086797110967, 0.46569132028890325)   \n",
      "222       4450.0  FEMALE  (0.6897793555765409, 0.31022064442345904)   \n",
      "223       5700.0    MALE  (0.6673086716819819, 0.33269132831801806)   \n",
      "224       5400.0    MALE   (0.681339012414789, 0.31866098758521083)   \n",
      "..           ...     ...                                        ...   \n",
      "338       4925.0  FEMALE   (0.6844928537641454, 0.3155071462358546)   \n",
      "340       4850.0  FEMALE   (0.681339012414789, 0.31866098758521083)   \n",
      "341       5750.0    MALE  (0.6373105608813895, 0.36268943911861046)   \n",
      "342       5200.0  FEMALE  (0.6885879172611081, 0.31141208273889176)   \n",
      "343       5400.0    MALE    (0.6869061715208721, 0.313093828479128)   \n",
      "\n",
      "    predicted_sex  \n",
      "220        FEMALE  \n",
      "221        FEMALE  \n",
      "222        FEMALE  \n",
      "223        FEMALE  \n",
      "224        FEMALE  \n",
      "..            ...  \n",
      "338        FEMALE  \n",
      "340        FEMALE  \n",
      "341        FEMALE  \n",
      "342        FEMALE  \n",
      "343        FEMALE  \n",
      "\n",
      "[119 rows x 9 columns]\n"
     ]
    }
   ],
   "source": [
    "gentoo['predicted_sex_vector'] = gentoo.apply(lambda row : bayes_classify(\n",
    "    row['flipper_length_mm'], male_mean, female_mean, male_var, female_var),\n",
    "    axis=1)\n",
    "\n",
    "gentoo['predicted_sex'] = gentoo.apply(lambda row : sex_prediction(*bayes_classify(\n",
    "    row['flipper_length_mm'], male_mean, female_mean, male_var, female_var)),\n",
    "    axis=1)\n",
    "\n",
    "print(gentoo)\n"
   ]
  },
  {
   "cell_type": "markdown",
   "id": "a25bbc2c",
   "metadata": {},
   "source": [
    "#D)\n"
   ]
  },
  {
   "cell_type": "code",
   "execution_count": 7,
   "id": "8b8fff53",
   "metadata": {},
   "outputs": [
    {
     "data": {
      "text/html": [
       "\n",
       "<div id=\"altair-viz-61887a95439b41a69039e88413126b13\"></div>\n",
       "<script type=\"text/javascript\">\n",
       "  var VEGA_DEBUG = (typeof VEGA_DEBUG == \"undefined\") ? {} : VEGA_DEBUG;\n",
       "  (function(spec, embedOpt){\n",
       "    let outputDiv = document.currentScript.previousElementSibling;\n",
       "    if (outputDiv.id !== \"altair-viz-61887a95439b41a69039e88413126b13\") {\n",
       "      outputDiv = document.getElementById(\"altair-viz-61887a95439b41a69039e88413126b13\");\n",
       "    }\n",
       "    const paths = {\n",
       "      \"vega\": \"https://cdn.jsdelivr.net/npm//vega@5?noext\",\n",
       "      \"vega-lib\": \"https://cdn.jsdelivr.net/npm//vega-lib?noext\",\n",
       "      \"vega-lite\": \"https://cdn.jsdelivr.net/npm//vega-lite@4.17.0?noext\",\n",
       "      \"vega-embed\": \"https://cdn.jsdelivr.net/npm//vega-embed@6?noext\",\n",
       "    };\n",
       "\n",
       "    function maybeLoadScript(lib, version) {\n",
       "      var key = `${lib.replace(\"-\", \"\")}_version`;\n",
       "      return (VEGA_DEBUG[key] == version) ?\n",
       "        Promise.resolve(paths[lib]) :\n",
       "        new Promise(function(resolve, reject) {\n",
       "          var s = document.createElement('script');\n",
       "          document.getElementsByTagName(\"head\")[0].appendChild(s);\n",
       "          s.async = true;\n",
       "          s.onload = () => {\n",
       "            VEGA_DEBUG[key] = version;\n",
       "            return resolve(paths[lib]);\n",
       "          };\n",
       "          s.onerror = () => reject(`Error loading script: ${paths[lib]}`);\n",
       "          s.src = paths[lib];\n",
       "        });\n",
       "    }\n",
       "\n",
       "    function showError(err) {\n",
       "      outputDiv.innerHTML = `<div class=\"error\" style=\"color:red;\">${err}</div>`;\n",
       "      throw err;\n",
       "    }\n",
       "\n",
       "    function displayChart(vegaEmbed) {\n",
       "      vegaEmbed(outputDiv, spec, embedOpt)\n",
       "        .catch(err => showError(`Javascript Error: ${err.message}<br>This usually means there's a typo in your chart specification. See the javascript console for the full traceback.`));\n",
       "    }\n",
       "\n",
       "    if(typeof define === \"function\" && define.amd) {\n",
       "      requirejs.config({paths});\n",
       "      require([\"vega-embed\"], displayChart, err => showError(`Error loading script: ${err.message}`));\n",
       "    } else {\n",
       "      maybeLoadScript(\"vega\", \"5\")\n",
       "        .then(() => maybeLoadScript(\"vega-lite\", \"4.17.0\"))\n",
       "        .then(() => maybeLoadScript(\"vega-embed\", \"6\"))\n",
       "        .catch(showError)\n",
       "        .then(() => displayChart(vegaEmbed));\n",
       "    }\n",
       "  })({\"config\": {\"view\": {\"continuousWidth\": 400, \"continuousHeight\": 300}}, \"hconcat\": [{\"mark\": \"bar\", \"encoding\": {\"x\": {\"field\": \"sex\", \"type\": \"nominal\"}, \"y\": {\"aggregate\": \"count\", \"field\": \"sex\", \"type\": \"quantitative\"}}, \"title\": \"Gentoo Penguins Count by Sex\"}, {\"mark\": \"bar\", \"encoding\": {\"x\": {\"field\": \"predicted_sex\", \"type\": \"nominal\"}, \"y\": {\"aggregate\": \"count\", \"field\": \"predicted_sex\", \"type\": \"quantitative\"}}, \"title\": \"Gentoo Penguins Count by Predicted Sex\"}], \"data\": {\"name\": \"data-598a5e80316c6a18ab8a46ff74b8d862\"}, \"$schema\": \"https://vega.github.io/schema/vega-lite/v4.17.0.json\", \"datasets\": {\"data-598a5e80316c6a18ab8a46ff74b8d862\": [{\"species\": \"Gentoo\", \"island\": \"Biscoe\", \"bill_length_mm\": 46.1, \"bill_depth_mm\": 13.2, \"flipper_length_mm\": 211.0, \"body_mass_g\": 4500.0, \"sex\": \"FEMALE\", \"predicted_sex_vector\": [0.6895444309386145, 0.3104555690613855], \"predicted_sex\": \"FEMALE\"}, {\"species\": \"Gentoo\", \"island\": \"Biscoe\", \"bill_length_mm\": 50.0, \"bill_depth_mm\": 16.3, \"flipper_length_mm\": 230.0, \"body_mass_g\": 5700.0, \"sex\": \"MALE\", \"predicted_sex_vector\": [0.5343086797110967, 0.46569132028890325], \"predicted_sex\": \"FEMALE\"}, {\"species\": \"Gentoo\", \"island\": \"Biscoe\", \"bill_length_mm\": 48.7, \"bill_depth_mm\": 14.1, \"flipper_length_mm\": 210.0, \"body_mass_g\": 4450.0, \"sex\": \"FEMALE\", \"predicted_sex_vector\": [0.6897793555765409, 0.31022064442345904], \"predicted_sex\": \"FEMALE\"}, {\"species\": \"Gentoo\", \"island\": \"Biscoe\", \"bill_length_mm\": 50.0, \"bill_depth_mm\": 15.2, \"flipper_length_mm\": 218.0, \"body_mass_g\": 5700.0, \"sex\": \"MALE\", \"predicted_sex_vector\": [0.6673086716819819, 0.33269132831801806], \"predicted_sex\": \"FEMALE\"}, {\"species\": \"Gentoo\", \"island\": \"Biscoe\", \"bill_length_mm\": 47.6, \"bill_depth_mm\": 14.5, \"flipper_length_mm\": 215.0, \"body_mass_g\": 5400.0, \"sex\": \"MALE\", \"predicted_sex_vector\": [0.681339012414789, 0.31866098758521083], \"predicted_sex\": \"FEMALE\"}, {\"species\": \"Gentoo\", \"island\": \"Biscoe\", \"bill_length_mm\": 46.5, \"bill_depth_mm\": 13.5, \"flipper_length_mm\": 210.0, \"body_mass_g\": 4550.0, \"sex\": \"FEMALE\", \"predicted_sex_vector\": [0.6897793555765409, 0.31022064442345904], \"predicted_sex\": \"FEMALE\"}, {\"species\": \"Gentoo\", \"island\": \"Biscoe\", \"bill_length_mm\": 45.4, \"bill_depth_mm\": 14.6, \"flipper_length_mm\": 211.0, \"body_mass_g\": 4800.0, \"sex\": \"FEMALE\", \"predicted_sex_vector\": [0.6895444309386145, 0.3104555690613855], \"predicted_sex\": \"FEMALE\"}, {\"species\": \"Gentoo\", \"island\": \"Biscoe\", \"bill_length_mm\": 46.7, \"bill_depth_mm\": 15.3, \"flipper_length_mm\": 219.0, \"body_mass_g\": 5200.0, \"sex\": \"MALE\", \"predicted_sex_vector\": [0.6610564976538046, 0.3389435023461954], \"predicted_sex\": \"FEMALE\"}, {\"species\": \"Gentoo\", \"island\": \"Biscoe\", \"bill_length_mm\": 43.3, \"bill_depth_mm\": 13.4, \"flipper_length_mm\": 209.0, \"body_mass_g\": 4400.0, \"sex\": \"FEMALE\", \"predicted_sex_vector\": [0.6892935900176611, 0.3107064099823389], \"predicted_sex\": \"FEMALE\"}, {\"species\": \"Gentoo\", \"island\": \"Biscoe\", \"bill_length_mm\": 46.8, \"bill_depth_mm\": 15.4, \"flipper_length_mm\": 215.0, \"body_mass_g\": 5150.0, \"sex\": \"MALE\", \"predicted_sex_vector\": [0.681339012414789, 0.31866098758521083], \"predicted_sex\": \"FEMALE\"}, {\"species\": \"Gentoo\", \"island\": \"Biscoe\", \"bill_length_mm\": 40.9, \"bill_depth_mm\": 13.7, \"flipper_length_mm\": 214.0, \"body_mass_g\": 4650.0, \"sex\": \"FEMALE\", \"predicted_sex_vector\": [0.6844928537641454, 0.3155071462358546], \"predicted_sex\": \"FEMALE\"}, {\"species\": \"Gentoo\", \"island\": \"Biscoe\", \"bill_length_mm\": 49.0, \"bill_depth_mm\": 16.1, \"flipper_length_mm\": 216.0, \"body_mass_g\": 5550.0, \"sex\": \"MALE\", \"predicted_sex_vector\": [0.6774332116112416, 0.3225667883887584], \"predicted_sex\": \"FEMALE\"}, {\"species\": \"Gentoo\", \"island\": \"Biscoe\", \"bill_length_mm\": 45.5, \"bill_depth_mm\": 13.7, \"flipper_length_mm\": 214.0, \"body_mass_g\": 4650.0, \"sex\": \"FEMALE\", \"predicted_sex_vector\": [0.6844928537641454, 0.3155071462358546], \"predicted_sex\": \"FEMALE\"}, {\"species\": \"Gentoo\", \"island\": \"Biscoe\", \"bill_length_mm\": 48.4, \"bill_depth_mm\": 14.6, \"flipper_length_mm\": 213.0, \"body_mass_g\": 5850.0, \"sex\": \"MALE\", \"predicted_sex_vector\": [0.6869061715208721, 0.313093828479128], \"predicted_sex\": \"FEMALE\"}, {\"species\": \"Gentoo\", \"island\": \"Biscoe\", \"bill_length_mm\": 45.8, \"bill_depth_mm\": 14.6, \"flipper_length_mm\": 210.0, \"body_mass_g\": 4200.0, \"sex\": \"FEMALE\", \"predicted_sex_vector\": [0.6897793555765409, 0.31022064442345904], \"predicted_sex\": \"FEMALE\"}, {\"species\": \"Gentoo\", \"island\": \"Biscoe\", \"bill_length_mm\": 49.3, \"bill_depth_mm\": 15.7, \"flipper_length_mm\": 217.0, \"body_mass_g\": 5850.0, \"sex\": \"MALE\", \"predicted_sex_vector\": [0.6727617062084651, 0.3272382937915348], \"predicted_sex\": \"FEMALE\"}, {\"species\": \"Gentoo\", \"island\": \"Biscoe\", \"bill_length_mm\": 42.0, \"bill_depth_mm\": 13.5, \"flipper_length_mm\": 210.0, \"body_mass_g\": 4150.0, \"sex\": \"FEMALE\", \"predicted_sex_vector\": [0.6897793555765409, 0.31022064442345904], \"predicted_sex\": \"FEMALE\"}, {\"species\": \"Gentoo\", \"island\": \"Biscoe\", \"bill_length_mm\": 49.2, \"bill_depth_mm\": 15.2, \"flipper_length_mm\": 221.0, \"body_mass_g\": 6300.0, \"sex\": \"MALE\", \"predicted_sex_vector\": [0.646077647829521, 0.3539223521704789], \"predicted_sex\": \"FEMALE\"}, {\"species\": \"Gentoo\", \"island\": \"Biscoe\", \"bill_length_mm\": 46.2, \"bill_depth_mm\": 14.5, \"flipper_length_mm\": 209.0, \"body_mass_g\": 4800.0, \"sex\": \"FEMALE\", \"predicted_sex_vector\": [0.6892935900176611, 0.3107064099823389], \"predicted_sex\": \"FEMALE\"}, {\"species\": \"Gentoo\", \"island\": \"Biscoe\", \"bill_length_mm\": 48.7, \"bill_depth_mm\": 15.1, \"flipper_length_mm\": 222.0, \"body_mass_g\": 5350.0, \"sex\": \"MALE\", \"predicted_sex_vector\": [0.6373105608813895, 0.36268943911861046], \"predicted_sex\": \"FEMALE\"}, {\"species\": \"Gentoo\", \"island\": \"Biscoe\", \"bill_length_mm\": 50.2, \"bill_depth_mm\": 14.3, \"flipper_length_mm\": 218.0, \"body_mass_g\": 5700.0, \"sex\": \"MALE\", \"predicted_sex_vector\": [0.6673086716819819, 0.33269132831801806], \"predicted_sex\": \"FEMALE\"}, {\"species\": \"Gentoo\", \"island\": \"Biscoe\", \"bill_length_mm\": 45.1, \"bill_depth_mm\": 14.5, \"flipper_length_mm\": 215.0, \"body_mass_g\": 5000.0, \"sex\": \"FEMALE\", \"predicted_sex_vector\": [0.681339012414789, 0.31866098758521083], \"predicted_sex\": \"FEMALE\"}, {\"species\": \"Gentoo\", \"island\": \"Biscoe\", \"bill_length_mm\": 46.5, \"bill_depth_mm\": 14.5, \"flipper_length_mm\": 213.0, \"body_mass_g\": 4400.0, \"sex\": \"FEMALE\", \"predicted_sex_vector\": [0.6869061715208721, 0.313093828479128], \"predicted_sex\": \"FEMALE\"}, {\"species\": \"Gentoo\", \"island\": \"Biscoe\", \"bill_length_mm\": 46.3, \"bill_depth_mm\": 15.8, \"flipper_length_mm\": 215.0, \"body_mass_g\": 5050.0, \"sex\": \"MALE\", \"predicted_sex_vector\": [0.681339012414789, 0.31866098758521083], \"predicted_sex\": \"FEMALE\"}, {\"species\": \"Gentoo\", \"island\": \"Biscoe\", \"bill_length_mm\": 42.9, \"bill_depth_mm\": 13.1, \"flipper_length_mm\": 215.0, \"body_mass_g\": 5000.0, \"sex\": \"FEMALE\", \"predicted_sex_vector\": [0.681339012414789, 0.31866098758521083], \"predicted_sex\": \"FEMALE\"}, {\"species\": \"Gentoo\", \"island\": \"Biscoe\", \"bill_length_mm\": 46.1, \"bill_depth_mm\": 15.1, \"flipper_length_mm\": 215.0, \"body_mass_g\": 5100.0, \"sex\": \"MALE\", \"predicted_sex_vector\": [0.681339012414789, 0.31866098758521083], \"predicted_sex\": \"FEMALE\"}, {\"species\": \"Gentoo\", \"island\": \"Biscoe\", \"bill_length_mm\": 47.8, \"bill_depth_mm\": 15.0, \"flipper_length_mm\": 215.0, \"body_mass_g\": 5650.0, \"sex\": \"MALE\", \"predicted_sex_vector\": [0.681339012414789, 0.31866098758521083], \"predicted_sex\": \"FEMALE\"}, {\"species\": \"Gentoo\", \"island\": \"Biscoe\", \"bill_length_mm\": 48.2, \"bill_depth_mm\": 14.3, \"flipper_length_mm\": 210.0, \"body_mass_g\": 4600.0, \"sex\": \"FEMALE\", \"predicted_sex_vector\": [0.6897793555765409, 0.31022064442345904], \"predicted_sex\": \"FEMALE\"}, {\"species\": \"Gentoo\", \"island\": \"Biscoe\", \"bill_length_mm\": 50.0, \"bill_depth_mm\": 15.3, \"flipper_length_mm\": 220.0, \"body_mass_g\": 5550.0, \"sex\": \"MALE\", \"predicted_sex_vector\": [0.653986155044645, 0.3460138449553552], \"predicted_sex\": \"FEMALE\"}, {\"species\": \"Gentoo\", \"island\": \"Biscoe\", \"bill_length_mm\": 47.3, \"bill_depth_mm\": 15.3, \"flipper_length_mm\": 222.0, \"body_mass_g\": 5250.0, \"sex\": \"MALE\", \"predicted_sex_vector\": [0.6373105608813895, 0.36268943911861046], \"predicted_sex\": \"FEMALE\"}, {\"species\": \"Gentoo\", \"island\": \"Biscoe\", \"bill_length_mm\": 42.8, \"bill_depth_mm\": 14.2, \"flipper_length_mm\": 209.0, \"body_mass_g\": 4700.0, \"sex\": \"FEMALE\", \"predicted_sex_vector\": [0.6892935900176611, 0.3107064099823389], \"predicted_sex\": \"FEMALE\"}, {\"species\": \"Gentoo\", \"island\": \"Biscoe\", \"bill_length_mm\": 45.1, \"bill_depth_mm\": 14.5, \"flipper_length_mm\": 207.0, \"body_mass_g\": 5050.0, \"sex\": \"FEMALE\", \"predicted_sex_vector\": [0.6861498292281288, 0.31385017077187105], \"predicted_sex\": \"FEMALE\"}, {\"species\": \"Gentoo\", \"island\": \"Biscoe\", \"bill_length_mm\": 59.6, \"bill_depth_mm\": 17.0, \"flipper_length_mm\": 230.0, \"body_mass_g\": 6050.0, \"sex\": \"MALE\", \"predicted_sex_vector\": [0.5343086797110967, 0.46569132028890325], \"predicted_sex\": \"FEMALE\"}, {\"species\": \"Gentoo\", \"island\": \"Biscoe\", \"bill_length_mm\": 49.1, \"bill_depth_mm\": 14.8, \"flipper_length_mm\": 220.0, \"body_mass_g\": 5150.0, \"sex\": \"FEMALE\", \"predicted_sex_vector\": [0.653986155044645, 0.3460138449553552], \"predicted_sex\": \"FEMALE\"}, {\"species\": \"Gentoo\", \"island\": \"Biscoe\", \"bill_length_mm\": 48.4, \"bill_depth_mm\": 16.3, \"flipper_length_mm\": 220.0, \"body_mass_g\": 5400.0, \"sex\": \"MALE\", \"predicted_sex_vector\": [0.653986155044645, 0.3460138449553552], \"predicted_sex\": \"FEMALE\"}, {\"species\": \"Gentoo\", \"island\": \"Biscoe\", \"bill_length_mm\": 42.6, \"bill_depth_mm\": 13.7, \"flipper_length_mm\": 213.0, \"body_mass_g\": 4950.0, \"sex\": \"FEMALE\", \"predicted_sex_vector\": [0.6869061715208721, 0.313093828479128], \"predicted_sex\": \"FEMALE\"}, {\"species\": \"Gentoo\", \"island\": \"Biscoe\", \"bill_length_mm\": 44.4, \"bill_depth_mm\": 17.3, \"flipper_length_mm\": 219.0, \"body_mass_g\": 5250.0, \"sex\": \"MALE\", \"predicted_sex_vector\": [0.6610564976538046, 0.3389435023461954], \"predicted_sex\": \"FEMALE\"}, {\"species\": \"Gentoo\", \"island\": \"Biscoe\", \"bill_length_mm\": 44.0, \"bill_depth_mm\": 13.6, \"flipper_length_mm\": 208.0, \"body_mass_g\": 4350.0, \"sex\": \"FEMALE\", \"predicted_sex_vector\": [0.68808527746137, 0.31191472253863], \"predicted_sex\": \"FEMALE\"}, {\"species\": \"Gentoo\", \"island\": \"Biscoe\", \"bill_length_mm\": 48.7, \"bill_depth_mm\": 15.7, \"flipper_length_mm\": 208.0, \"body_mass_g\": 5350.0, \"sex\": \"MALE\", \"predicted_sex_vector\": [0.68808527746137, 0.31191472253863], \"predicted_sex\": \"FEMALE\"}, {\"species\": \"Gentoo\", \"island\": \"Biscoe\", \"bill_length_mm\": 42.7, \"bill_depth_mm\": 13.7, \"flipper_length_mm\": 208.0, \"body_mass_g\": 3950.0, \"sex\": \"FEMALE\", \"predicted_sex_vector\": [0.68808527746137, 0.31191472253863], \"predicted_sex\": \"FEMALE\"}, {\"species\": \"Gentoo\", \"island\": \"Biscoe\", \"bill_length_mm\": 49.6, \"bill_depth_mm\": 16.0, \"flipper_length_mm\": 225.0, \"body_mass_g\": 5700.0, \"sex\": \"MALE\", \"predicted_sex_vector\": [0.6056619761636538, 0.3943380238363462], \"predicted_sex\": \"FEMALE\"}, {\"species\": \"Gentoo\", \"island\": \"Biscoe\", \"bill_length_mm\": 45.3, \"bill_depth_mm\": 13.7, \"flipper_length_mm\": 210.0, \"body_mass_g\": 4300.0, \"sex\": \"FEMALE\", \"predicted_sex_vector\": [0.6897793555765409, 0.31022064442345904], \"predicted_sex\": \"FEMALE\"}, {\"species\": \"Gentoo\", \"island\": \"Biscoe\", \"bill_length_mm\": 49.6, \"bill_depth_mm\": 15.0, \"flipper_length_mm\": 216.0, \"body_mass_g\": 4750.0, \"sex\": \"MALE\", \"predicted_sex_vector\": [0.6774332116112416, 0.3225667883887584], \"predicted_sex\": \"FEMALE\"}, {\"species\": \"Gentoo\", \"island\": \"Biscoe\", \"bill_length_mm\": 50.5, \"bill_depth_mm\": 15.9, \"flipper_length_mm\": 222.0, \"body_mass_g\": 5550.0, \"sex\": \"MALE\", \"predicted_sex_vector\": [0.6373105608813895, 0.36268943911861046], \"predicted_sex\": \"FEMALE\"}, {\"species\": \"Gentoo\", \"island\": \"Biscoe\", \"bill_length_mm\": 43.6, \"bill_depth_mm\": 13.9, \"flipper_length_mm\": 217.0, \"body_mass_g\": 4900.0, \"sex\": \"FEMALE\", \"predicted_sex_vector\": [0.6727617062084651, 0.3272382937915348], \"predicted_sex\": \"FEMALE\"}, {\"species\": \"Gentoo\", \"island\": \"Biscoe\", \"bill_length_mm\": 45.5, \"bill_depth_mm\": 13.9, \"flipper_length_mm\": 210.0, \"body_mass_g\": 4200.0, \"sex\": \"FEMALE\", \"predicted_sex_vector\": [0.6897793555765409, 0.31022064442345904], \"predicted_sex\": \"FEMALE\"}, {\"species\": \"Gentoo\", \"island\": \"Biscoe\", \"bill_length_mm\": 50.5, \"bill_depth_mm\": 15.9, \"flipper_length_mm\": 225.0, \"body_mass_g\": 5400.0, \"sex\": \"MALE\", \"predicted_sex_vector\": [0.6056619761636538, 0.3943380238363462], \"predicted_sex\": \"FEMALE\"}, {\"species\": \"Gentoo\", \"island\": \"Biscoe\", \"bill_length_mm\": 44.9, \"bill_depth_mm\": 13.3, \"flipper_length_mm\": 213.0, \"body_mass_g\": 5100.0, \"sex\": \"FEMALE\", \"predicted_sex_vector\": [0.6869061715208721, 0.313093828479128], \"predicted_sex\": \"FEMALE\"}, {\"species\": \"Gentoo\", \"island\": \"Biscoe\", \"bill_length_mm\": 45.2, \"bill_depth_mm\": 15.8, \"flipper_length_mm\": 215.0, \"body_mass_g\": 5300.0, \"sex\": \"MALE\", \"predicted_sex_vector\": [0.681339012414789, 0.31866098758521083], \"predicted_sex\": \"FEMALE\"}, {\"species\": \"Gentoo\", \"island\": \"Biscoe\", \"bill_length_mm\": 46.6, \"bill_depth_mm\": 14.2, \"flipper_length_mm\": 210.0, \"body_mass_g\": 4850.0, \"sex\": \"FEMALE\", \"predicted_sex_vector\": [0.6897793555765409, 0.31022064442345904], \"predicted_sex\": \"FEMALE\"}, {\"species\": \"Gentoo\", \"island\": \"Biscoe\", \"bill_length_mm\": 48.5, \"bill_depth_mm\": 14.1, \"flipper_length_mm\": 220.0, \"body_mass_g\": 5300.0, \"sex\": \"MALE\", \"predicted_sex_vector\": [0.653986155044645, 0.3460138449553552], \"predicted_sex\": \"FEMALE\"}, {\"species\": \"Gentoo\", \"island\": \"Biscoe\", \"bill_length_mm\": 45.1, \"bill_depth_mm\": 14.4, \"flipper_length_mm\": 210.0, \"body_mass_g\": 4400.0, \"sex\": \"FEMALE\", \"predicted_sex_vector\": [0.6897793555765409, 0.31022064442345904], \"predicted_sex\": \"FEMALE\"}, {\"species\": \"Gentoo\", \"island\": \"Biscoe\", \"bill_length_mm\": 50.1, \"bill_depth_mm\": 15.0, \"flipper_length_mm\": 225.0, \"body_mass_g\": 5000.0, \"sex\": \"MALE\", \"predicted_sex_vector\": [0.6056619761636538, 0.3943380238363462], \"predicted_sex\": \"FEMALE\"}, {\"species\": \"Gentoo\", \"island\": \"Biscoe\", \"bill_length_mm\": 46.5, \"bill_depth_mm\": 14.4, \"flipper_length_mm\": 217.0, \"body_mass_g\": 4900.0, \"sex\": \"FEMALE\", \"predicted_sex_vector\": [0.6727617062084651, 0.3272382937915348], \"predicted_sex\": \"FEMALE\"}, {\"species\": \"Gentoo\", \"island\": \"Biscoe\", \"bill_length_mm\": 45.0, \"bill_depth_mm\": 15.4, \"flipper_length_mm\": 220.0, \"body_mass_g\": 5050.0, \"sex\": \"MALE\", \"predicted_sex_vector\": [0.653986155044645, 0.3460138449553552], \"predicted_sex\": \"FEMALE\"}, {\"species\": \"Gentoo\", \"island\": \"Biscoe\", \"bill_length_mm\": 43.8, \"bill_depth_mm\": 13.9, \"flipper_length_mm\": 208.0, \"body_mass_g\": 4300.0, \"sex\": \"FEMALE\", \"predicted_sex_vector\": [0.68808527746137, 0.31191472253863], \"predicted_sex\": \"FEMALE\"}, {\"species\": \"Gentoo\", \"island\": \"Biscoe\", \"bill_length_mm\": 45.5, \"bill_depth_mm\": 15.0, \"flipper_length_mm\": 220.0, \"body_mass_g\": 5000.0, \"sex\": \"MALE\", \"predicted_sex_vector\": [0.653986155044645, 0.3460138449553552], \"predicted_sex\": \"FEMALE\"}, {\"species\": \"Gentoo\", \"island\": \"Biscoe\", \"bill_length_mm\": 43.2, \"bill_depth_mm\": 14.5, \"flipper_length_mm\": 208.0, \"body_mass_g\": 4450.0, \"sex\": \"FEMALE\", \"predicted_sex_vector\": [0.68808527746137, 0.31191472253863], \"predicted_sex\": \"FEMALE\"}, {\"species\": \"Gentoo\", \"island\": \"Biscoe\", \"bill_length_mm\": 50.4, \"bill_depth_mm\": 15.3, \"flipper_length_mm\": 224.0, \"body_mass_g\": 5550.0, \"sex\": \"MALE\", \"predicted_sex_vector\": [0.6171209410229748, 0.3828790589770252], \"predicted_sex\": \"FEMALE\"}, {\"species\": \"Gentoo\", \"island\": \"Biscoe\", \"bill_length_mm\": 45.3, \"bill_depth_mm\": 13.8, \"flipper_length_mm\": 208.0, \"body_mass_g\": 4200.0, \"sex\": \"FEMALE\", \"predicted_sex_vector\": [0.68808527746137, 0.31191472253863], \"predicted_sex\": \"FEMALE\"}, {\"species\": \"Gentoo\", \"island\": \"Biscoe\", \"bill_length_mm\": 46.2, \"bill_depth_mm\": 14.9, \"flipper_length_mm\": 221.0, \"body_mass_g\": 5300.0, \"sex\": \"MALE\", \"predicted_sex_vector\": [0.646077647829521, 0.3539223521704789], \"predicted_sex\": \"FEMALE\"}, {\"species\": \"Gentoo\", \"island\": \"Biscoe\", \"bill_length_mm\": 45.7, \"bill_depth_mm\": 13.9, \"flipper_length_mm\": 214.0, \"body_mass_g\": 4400.0, \"sex\": \"FEMALE\", \"predicted_sex_vector\": [0.6844928537641454, 0.3155071462358546], \"predicted_sex\": \"FEMALE\"}, {\"species\": \"Gentoo\", \"island\": \"Biscoe\", \"bill_length_mm\": 54.3, \"bill_depth_mm\": 15.7, \"flipper_length_mm\": 231.0, \"body_mass_g\": 5650.0, \"sex\": \"MALE\", \"predicted_sex_vector\": [0.5172476185785098, 0.4827523814214902], \"predicted_sex\": \"FEMALE\"}, {\"species\": \"Gentoo\", \"island\": \"Biscoe\", \"bill_length_mm\": 45.8, \"bill_depth_mm\": 14.2, \"flipper_length_mm\": 219.0, \"body_mass_g\": 4700.0, \"sex\": \"FEMALE\", \"predicted_sex_vector\": [0.6610564976538046, 0.3389435023461954], \"predicted_sex\": \"FEMALE\"}, {\"species\": \"Gentoo\", \"island\": \"Biscoe\", \"bill_length_mm\": 49.8, \"bill_depth_mm\": 16.8, \"flipper_length_mm\": 230.0, \"body_mass_g\": 5700.0, \"sex\": \"MALE\", \"predicted_sex_vector\": [0.5343086797110967, 0.46569132028890325], \"predicted_sex\": \"FEMALE\"}, {\"species\": \"Gentoo\", \"island\": \"Biscoe\", \"bill_length_mm\": 49.5, \"bill_depth_mm\": 16.2, \"flipper_length_mm\": 229.0, \"body_mass_g\": 5800.0, \"sex\": \"MALE\", \"predicted_sex_vector\": [0.5504568697430424, 0.4495431302569575], \"predicted_sex\": \"FEMALE\"}, {\"species\": \"Gentoo\", \"island\": \"Biscoe\", \"bill_length_mm\": 43.5, \"bill_depth_mm\": 14.2, \"flipper_length_mm\": 220.0, \"body_mass_g\": 4700.0, \"sex\": \"FEMALE\", \"predicted_sex_vector\": [0.653986155044645, 0.3460138449553552], \"predicted_sex\": \"FEMALE\"}, {\"species\": \"Gentoo\", \"island\": \"Biscoe\", \"bill_length_mm\": 50.7, \"bill_depth_mm\": 15.0, \"flipper_length_mm\": 223.0, \"body_mass_g\": 5550.0, \"sex\": \"MALE\", \"predicted_sex_vector\": [0.6276647152324014, 0.37233528476759853], \"predicted_sex\": \"FEMALE\"}, {\"species\": \"Gentoo\", \"island\": \"Biscoe\", \"bill_length_mm\": 47.7, \"bill_depth_mm\": 15.0, \"flipper_length_mm\": 216.0, \"body_mass_g\": 4750.0, \"sex\": \"FEMALE\", \"predicted_sex_vector\": [0.6774332116112416, 0.3225667883887584], \"predicted_sex\": \"FEMALE\"}, {\"species\": \"Gentoo\", \"island\": \"Biscoe\", \"bill_length_mm\": 46.4, \"bill_depth_mm\": 15.6, \"flipper_length_mm\": 221.0, \"body_mass_g\": 5000.0, \"sex\": \"MALE\", \"predicted_sex_vector\": [0.646077647829521, 0.3539223521704789], \"predicted_sex\": \"FEMALE\"}, {\"species\": \"Gentoo\", \"island\": \"Biscoe\", \"bill_length_mm\": 48.2, \"bill_depth_mm\": 15.6, \"flipper_length_mm\": 221.0, \"body_mass_g\": 5100.0, \"sex\": \"MALE\", \"predicted_sex_vector\": [0.646077647829521, 0.3539223521704789], \"predicted_sex\": \"FEMALE\"}, {\"species\": \"Gentoo\", \"island\": \"Biscoe\", \"bill_length_mm\": 46.5, \"bill_depth_mm\": 14.8, \"flipper_length_mm\": 217.0, \"body_mass_g\": 5200.0, \"sex\": \"FEMALE\", \"predicted_sex_vector\": [0.6727617062084651, 0.3272382937915348], \"predicted_sex\": \"FEMALE\"}, {\"species\": \"Gentoo\", \"island\": \"Biscoe\", \"bill_length_mm\": 46.4, \"bill_depth_mm\": 15.0, \"flipper_length_mm\": 216.0, \"body_mass_g\": 4700.0, \"sex\": \"FEMALE\", \"predicted_sex_vector\": [0.6774332116112416, 0.3225667883887584], \"predicted_sex\": \"FEMALE\"}, {\"species\": \"Gentoo\", \"island\": \"Biscoe\", \"bill_length_mm\": 48.6, \"bill_depth_mm\": 16.0, \"flipper_length_mm\": 230.0, \"body_mass_g\": 5800.0, \"sex\": \"MALE\", \"predicted_sex_vector\": [0.5343086797110967, 0.46569132028890325], \"predicted_sex\": \"FEMALE\"}, {\"species\": \"Gentoo\", \"island\": \"Biscoe\", \"bill_length_mm\": 47.5, \"bill_depth_mm\": 14.2, \"flipper_length_mm\": 209.0, \"body_mass_g\": 4600.0, \"sex\": \"FEMALE\", \"predicted_sex_vector\": [0.6892935900176611, 0.3107064099823389], \"predicted_sex\": \"FEMALE\"}, {\"species\": \"Gentoo\", \"island\": \"Biscoe\", \"bill_length_mm\": 51.1, \"bill_depth_mm\": 16.3, \"flipper_length_mm\": 220.0, \"body_mass_g\": 6000.0, \"sex\": \"MALE\", \"predicted_sex_vector\": [0.653986155044645, 0.3460138449553552], \"predicted_sex\": \"FEMALE\"}, {\"species\": \"Gentoo\", \"island\": \"Biscoe\", \"bill_length_mm\": 45.2, \"bill_depth_mm\": 13.8, \"flipper_length_mm\": 215.0, \"body_mass_g\": 4750.0, \"sex\": \"FEMALE\", \"predicted_sex_vector\": [0.681339012414789, 0.31866098758521083], \"predicted_sex\": \"FEMALE\"}, {\"species\": \"Gentoo\", \"island\": \"Biscoe\", \"bill_length_mm\": 45.2, \"bill_depth_mm\": 16.4, \"flipper_length_mm\": 223.0, \"body_mass_g\": 5950.0, \"sex\": \"MALE\", \"predicted_sex_vector\": [0.6276647152324014, 0.37233528476759853], \"predicted_sex\": \"FEMALE\"}, {\"species\": \"Gentoo\", \"island\": \"Biscoe\", \"bill_length_mm\": 49.1, \"bill_depth_mm\": 14.5, \"flipper_length_mm\": 212.0, \"body_mass_g\": 4625.0, \"sex\": \"FEMALE\", \"predicted_sex_vector\": [0.6885879172611081, 0.31141208273889176], \"predicted_sex\": \"FEMALE\"}, {\"species\": \"Gentoo\", \"island\": \"Biscoe\", \"bill_length_mm\": 52.5, \"bill_depth_mm\": 15.6, \"flipper_length_mm\": 221.0, \"body_mass_g\": 5450.0, \"sex\": \"MALE\", \"predicted_sex_vector\": [0.646077647829521, 0.3539223521704789], \"predicted_sex\": \"FEMALE\"}, {\"species\": \"Gentoo\", \"island\": \"Biscoe\", \"bill_length_mm\": 47.4, \"bill_depth_mm\": 14.6, \"flipper_length_mm\": 212.0, \"body_mass_g\": 4725.0, \"sex\": \"FEMALE\", \"predicted_sex_vector\": [0.6885879172611081, 0.31141208273889176], \"predicted_sex\": \"FEMALE\"}, {\"species\": \"Gentoo\", \"island\": \"Biscoe\", \"bill_length_mm\": 50.0, \"bill_depth_mm\": 15.9, \"flipper_length_mm\": 224.0, \"body_mass_g\": 5350.0, \"sex\": \"MALE\", \"predicted_sex_vector\": [0.6171209410229748, 0.3828790589770252], \"predicted_sex\": \"FEMALE\"}, {\"species\": \"Gentoo\", \"island\": \"Biscoe\", \"bill_length_mm\": 44.9, \"bill_depth_mm\": 13.8, \"flipper_length_mm\": 212.0, \"body_mass_g\": 4750.0, \"sex\": \"FEMALE\", \"predicted_sex_vector\": [0.6885879172611081, 0.31141208273889176], \"predicted_sex\": \"FEMALE\"}, {\"species\": \"Gentoo\", \"island\": \"Biscoe\", \"bill_length_mm\": 50.8, \"bill_depth_mm\": 17.3, \"flipper_length_mm\": 228.0, \"body_mass_g\": 5600.0, \"sex\": \"MALE\", \"predicted_sex_vector\": [0.5656724276236285, 0.4343275723763716], \"predicted_sex\": \"FEMALE\"}, {\"species\": \"Gentoo\", \"island\": \"Biscoe\", \"bill_length_mm\": 43.4, \"bill_depth_mm\": 14.4, \"flipper_length_mm\": 218.0, \"body_mass_g\": 4600.0, \"sex\": \"FEMALE\", \"predicted_sex_vector\": [0.6673086716819819, 0.33269132831801806], \"predicted_sex\": \"FEMALE\"}, {\"species\": \"Gentoo\", \"island\": \"Biscoe\", \"bill_length_mm\": 51.3, \"bill_depth_mm\": 14.2, \"flipper_length_mm\": 218.0, \"body_mass_g\": 5300.0, \"sex\": \"MALE\", \"predicted_sex_vector\": [0.6673086716819819, 0.33269132831801806], \"predicted_sex\": \"FEMALE\"}, {\"species\": \"Gentoo\", \"island\": \"Biscoe\", \"bill_length_mm\": 47.5, \"bill_depth_mm\": 14.0, \"flipper_length_mm\": 212.0, \"body_mass_g\": 4875.0, \"sex\": \"FEMALE\", \"predicted_sex_vector\": [0.6885879172611081, 0.31141208273889176], \"predicted_sex\": \"FEMALE\"}, {\"species\": \"Gentoo\", \"island\": \"Biscoe\", \"bill_length_mm\": 52.1, \"bill_depth_mm\": 17.0, \"flipper_length_mm\": 230.0, \"body_mass_g\": 5550.0, \"sex\": \"MALE\", \"predicted_sex_vector\": [0.5343086797110967, 0.46569132028890325], \"predicted_sex\": \"FEMALE\"}, {\"species\": \"Gentoo\", \"island\": \"Biscoe\", \"bill_length_mm\": 47.5, \"bill_depth_mm\": 15.0, \"flipper_length_mm\": 218.0, \"body_mass_g\": 4950.0, \"sex\": \"FEMALE\", \"predicted_sex_vector\": [0.6673086716819819, 0.33269132831801806], \"predicted_sex\": \"FEMALE\"}, {\"species\": \"Gentoo\", \"island\": \"Biscoe\", \"bill_length_mm\": 52.2, \"bill_depth_mm\": 17.1, \"flipper_length_mm\": 228.0, \"body_mass_g\": 5400.0, \"sex\": \"MALE\", \"predicted_sex_vector\": [0.5656724276236285, 0.4343275723763716], \"predicted_sex\": \"FEMALE\"}, {\"species\": \"Gentoo\", \"island\": \"Biscoe\", \"bill_length_mm\": 45.5, \"bill_depth_mm\": 14.5, \"flipper_length_mm\": 212.0, \"body_mass_g\": 4750.0, \"sex\": \"FEMALE\", \"predicted_sex_vector\": [0.6885879172611081, 0.31141208273889176], \"predicted_sex\": \"FEMALE\"}, {\"species\": \"Gentoo\", \"island\": \"Biscoe\", \"bill_length_mm\": 49.5, \"bill_depth_mm\": 16.1, \"flipper_length_mm\": 224.0, \"body_mass_g\": 5650.0, \"sex\": \"MALE\", \"predicted_sex_vector\": [0.6171209410229748, 0.3828790589770252], \"predicted_sex\": \"FEMALE\"}, {\"species\": \"Gentoo\", \"island\": \"Biscoe\", \"bill_length_mm\": 44.5, \"bill_depth_mm\": 14.7, \"flipper_length_mm\": 214.0, \"body_mass_g\": 4850.0, \"sex\": \"FEMALE\", \"predicted_sex_vector\": [0.6844928537641454, 0.3155071462358546], \"predicted_sex\": \"FEMALE\"}, {\"species\": \"Gentoo\", \"island\": \"Biscoe\", \"bill_length_mm\": 50.8, \"bill_depth_mm\": 15.7, \"flipper_length_mm\": 226.0, \"body_mass_g\": 5200.0, \"sex\": \"MALE\", \"predicted_sex_vector\": [0.5932734949966438, 0.40672650500335616], \"predicted_sex\": \"FEMALE\"}, {\"species\": \"Gentoo\", \"island\": \"Biscoe\", \"bill_length_mm\": 49.4, \"bill_depth_mm\": 15.8, \"flipper_length_mm\": 216.0, \"body_mass_g\": 4925.0, \"sex\": \"MALE\", \"predicted_sex_vector\": [0.6774332116112416, 0.3225667883887584], \"predicted_sex\": \"FEMALE\"}, {\"species\": \"Gentoo\", \"island\": \"Biscoe\", \"bill_length_mm\": 46.9, \"bill_depth_mm\": 14.6, \"flipper_length_mm\": 222.0, \"body_mass_g\": 4875.0, \"sex\": \"FEMALE\", \"predicted_sex_vector\": [0.6373105608813895, 0.36268943911861046], \"predicted_sex\": \"FEMALE\"}, {\"species\": \"Gentoo\", \"island\": \"Biscoe\", \"bill_length_mm\": 48.4, \"bill_depth_mm\": 14.4, \"flipper_length_mm\": 203.0, \"body_mass_g\": 4625.0, \"sex\": \"FEMALE\", \"predicted_sex_vector\": [0.6709537954943897, 0.3290462045056101], \"predicted_sex\": \"FEMALE\"}, {\"species\": \"Gentoo\", \"island\": \"Biscoe\", \"bill_length_mm\": 51.1, \"bill_depth_mm\": 16.5, \"flipper_length_mm\": 225.0, \"body_mass_g\": 5250.0, \"sex\": \"MALE\", \"predicted_sex_vector\": [0.6056619761636538, 0.3943380238363462], \"predicted_sex\": \"FEMALE\"}, {\"species\": \"Gentoo\", \"island\": \"Biscoe\", \"bill_length_mm\": 48.5, \"bill_depth_mm\": 15.0, \"flipper_length_mm\": 219.0, \"body_mass_g\": 4850.0, \"sex\": \"FEMALE\", \"predicted_sex_vector\": [0.6610564976538046, 0.3389435023461954], \"predicted_sex\": \"FEMALE\"}, {\"species\": \"Gentoo\", \"island\": \"Biscoe\", \"bill_length_mm\": 55.9, \"bill_depth_mm\": 17.0, \"flipper_length_mm\": 228.0, \"body_mass_g\": 5600.0, \"sex\": \"MALE\", \"predicted_sex_vector\": [0.5656724276236285, 0.4343275723763716], \"predicted_sex\": \"FEMALE\"}, {\"species\": \"Gentoo\", \"island\": \"Biscoe\", \"bill_length_mm\": 47.2, \"bill_depth_mm\": 15.5, \"flipper_length_mm\": 215.0, \"body_mass_g\": 4975.0, \"sex\": \"FEMALE\", \"predicted_sex_vector\": [0.681339012414789, 0.31866098758521083], \"predicted_sex\": \"FEMALE\"}, {\"species\": \"Gentoo\", \"island\": \"Biscoe\", \"bill_length_mm\": 49.1, \"bill_depth_mm\": 15.0, \"flipper_length_mm\": 228.0, \"body_mass_g\": 5500.0, \"sex\": \"MALE\", \"predicted_sex_vector\": [0.5656724276236285, 0.4343275723763716], \"predicted_sex\": \"FEMALE\"}, {\"species\": \"Gentoo\", \"island\": \"Biscoe\", \"bill_length_mm\": 46.8, \"bill_depth_mm\": 16.1, \"flipper_length_mm\": 215.0, \"body_mass_g\": 5500.0, \"sex\": \"MALE\", \"predicted_sex_vector\": [0.681339012414789, 0.31866098758521083], \"predicted_sex\": \"FEMALE\"}, {\"species\": \"Gentoo\", \"island\": \"Biscoe\", \"bill_length_mm\": 41.7, \"bill_depth_mm\": 14.7, \"flipper_length_mm\": 210.0, \"body_mass_g\": 4700.0, \"sex\": \"FEMALE\", \"predicted_sex_vector\": [0.6897793555765409, 0.31022064442345904], \"predicted_sex\": \"FEMALE\"}, {\"species\": \"Gentoo\", \"island\": \"Biscoe\", \"bill_length_mm\": 53.4, \"bill_depth_mm\": 15.8, \"flipper_length_mm\": 219.0, \"body_mass_g\": 5500.0, \"sex\": \"MALE\", \"predicted_sex_vector\": [0.6610564976538046, 0.3389435023461954], \"predicted_sex\": \"FEMALE\"}, {\"species\": \"Gentoo\", \"island\": \"Biscoe\", \"bill_length_mm\": 43.3, \"bill_depth_mm\": 14.0, \"flipper_length_mm\": 208.0, \"body_mass_g\": 4575.0, \"sex\": \"FEMALE\", \"predicted_sex_vector\": [0.68808527746137, 0.31191472253863], \"predicted_sex\": \"FEMALE\"}, {\"species\": \"Gentoo\", \"island\": \"Biscoe\", \"bill_length_mm\": 48.1, \"bill_depth_mm\": 15.1, \"flipper_length_mm\": 209.0, \"body_mass_g\": 5500.0, \"sex\": \"MALE\", \"predicted_sex_vector\": [0.6892935900176611, 0.3107064099823389], \"predicted_sex\": \"FEMALE\"}, {\"species\": \"Gentoo\", \"island\": \"Biscoe\", \"bill_length_mm\": 50.5, \"bill_depth_mm\": 15.2, \"flipper_length_mm\": 216.0, \"body_mass_g\": 5000.0, \"sex\": \"FEMALE\", \"predicted_sex_vector\": [0.6774332116112416, 0.3225667883887584], \"predicted_sex\": \"FEMALE\"}, {\"species\": \"Gentoo\", \"island\": \"Biscoe\", \"bill_length_mm\": 49.8, \"bill_depth_mm\": 15.9, \"flipper_length_mm\": 229.0, \"body_mass_g\": 5950.0, \"sex\": \"MALE\", \"predicted_sex_vector\": [0.5504568697430424, 0.4495431302569575], \"predicted_sex\": \"FEMALE\"}, {\"species\": \"Gentoo\", \"island\": \"Biscoe\", \"bill_length_mm\": 43.5, \"bill_depth_mm\": 15.2, \"flipper_length_mm\": 213.0, \"body_mass_g\": 4650.0, \"sex\": \"FEMALE\", \"predicted_sex_vector\": [0.6869061715208721, 0.313093828479128], \"predicted_sex\": \"FEMALE\"}, {\"species\": \"Gentoo\", \"island\": \"Biscoe\", \"bill_length_mm\": 51.5, \"bill_depth_mm\": 16.3, \"flipper_length_mm\": 230.0, \"body_mass_g\": 5500.0, \"sex\": \"MALE\", \"predicted_sex_vector\": [0.5343086797110967, 0.46569132028890325], \"predicted_sex\": \"FEMALE\"}, {\"species\": \"Gentoo\", \"island\": \"Biscoe\", \"bill_length_mm\": 46.2, \"bill_depth_mm\": 14.1, \"flipper_length_mm\": 217.0, \"body_mass_g\": 4375.0, \"sex\": \"FEMALE\", \"predicted_sex_vector\": [0.6727617062084651, 0.3272382937915348], \"predicted_sex\": \"FEMALE\"}, {\"species\": \"Gentoo\", \"island\": \"Biscoe\", \"bill_length_mm\": 55.1, \"bill_depth_mm\": 16.0, \"flipper_length_mm\": 230.0, \"body_mass_g\": 5850.0, \"sex\": \"MALE\", \"predicted_sex_vector\": [0.5343086797110967, 0.46569132028890325], \"predicted_sex\": \"FEMALE\"}, {\"species\": \"Gentoo\", \"island\": \"Biscoe\", \"bill_length_mm\": 48.8, \"bill_depth_mm\": 16.2, \"flipper_length_mm\": 222.0, \"body_mass_g\": 6000.0, \"sex\": \"MALE\", \"predicted_sex_vector\": [0.6373105608813895, 0.36268943911861046], \"predicted_sex\": \"FEMALE\"}, {\"species\": \"Gentoo\", \"island\": \"Biscoe\", \"bill_length_mm\": 47.2, \"bill_depth_mm\": 13.7, \"flipper_length_mm\": 214.0, \"body_mass_g\": 4925.0, \"sex\": \"FEMALE\", \"predicted_sex_vector\": [0.6844928537641454, 0.3155071462358546], \"predicted_sex\": \"FEMALE\"}, {\"species\": \"Gentoo\", \"island\": \"Biscoe\", \"bill_length_mm\": 46.8, \"bill_depth_mm\": 14.3, \"flipper_length_mm\": 215.0, \"body_mass_g\": 4850.0, \"sex\": \"FEMALE\", \"predicted_sex_vector\": [0.681339012414789, 0.31866098758521083], \"predicted_sex\": \"FEMALE\"}, {\"species\": \"Gentoo\", \"island\": \"Biscoe\", \"bill_length_mm\": 50.4, \"bill_depth_mm\": 15.7, \"flipper_length_mm\": 222.0, \"body_mass_g\": 5750.0, \"sex\": \"MALE\", \"predicted_sex_vector\": [0.6373105608813895, 0.36268943911861046], \"predicted_sex\": \"FEMALE\"}, {\"species\": \"Gentoo\", \"island\": \"Biscoe\", \"bill_length_mm\": 45.2, \"bill_depth_mm\": 14.8, \"flipper_length_mm\": 212.0, \"body_mass_g\": 5200.0, \"sex\": \"FEMALE\", \"predicted_sex_vector\": [0.6885879172611081, 0.31141208273889176], \"predicted_sex\": \"FEMALE\"}, {\"species\": \"Gentoo\", \"island\": \"Biscoe\", \"bill_length_mm\": 49.9, \"bill_depth_mm\": 16.1, \"flipper_length_mm\": 213.0, \"body_mass_g\": 5400.0, \"sex\": \"MALE\", \"predicted_sex_vector\": [0.6869061715208721, 0.313093828479128], \"predicted_sex\": \"FEMALE\"}]}}, {\"mode\": \"vega-lite\"});\n",
       "</script>"
      ],
      "text/plain": [
       "alt.HConcatChart(...)"
      ]
     },
     "execution_count": 7,
     "metadata": {},
     "output_type": "execute_result"
    }
   ],
   "source": [
    "import altair as alt\n",
    "\n",
    "chart = alt.Chart(gentoo).mark_bar().encode(\n",
    "    x=alt.X('sex:N'),\n",
    "    y=alt.Y('count(sex):Q')\n",
    ").properties(title='Gentoo Penguins Count by Sex')\n",
    "\n",
    "predicted_chart = alt.Chart(gentoo).mark_bar().encode(\n",
    "    x=alt.X('predicted_sex:N'),\n",
    "    y=alt.Y('count(predicted_sex):Q')\n",
    ").properties(title='Gentoo Penguins Count by Predicted Sex')\n",
    "\n",
    "chart | predicted_chart"
   ]
  },
  {
   "cell_type": "markdown",
   "id": "ee7b3fe7",
   "metadata": {},
   "source": [
    "## Conclusions\n",
    "This shows that through flipper length alone, Gentoo penguins' sex cannot be determined, as the variance for male flipper length is so large that the normal distribution will \"predict\" the penguin to be female all the time. More accurate calculations can be achieved taking into account body mass, amongst other factors."
   ]
  }
 ],
 "metadata": {
  "kernelspec": {
   "display_name": "Python 3 (ipykernel)",
   "language": "python",
   "name": "python3"
  },
  "language_info": {
   "codemirror_mode": {
    "name": "ipython",
    "version": 3
   },
   "file_extension": ".py",
   "mimetype": "text/x-python",
   "name": "python",
   "nbconvert_exporter": "python",
   "pygments_lexer": "ipython3",
   "version": "3.10.6"
  }
 },
 "nbformat": 4,
 "nbformat_minor": 5
}
